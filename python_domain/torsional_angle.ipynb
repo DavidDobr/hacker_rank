{
 "cells": [
  {
   "cell_type": "code",
   "execution_count": 1,
   "metadata": {
    "collapsed": false
   },
   "outputs": [
    {
     "name": "stdout",
     "output_type": "stream",
     "text": [
      "3.5.2 |Anaconda 4.2.0 (64-bit)| (default, Jul  2 2016, 17:53:06) \n",
      "[GCC 4.4.7 20120313 (Red Hat 4.4.7-1)]\n"
     ]
    }
   ],
   "source": [
    "from math import cos, acos, sin, asin, sqrt, degrees\n",
    "\n",
    "import sys\n",
    "print(sys.version)"
   ]
  },
  {
   "cell_type": "code",
   "execution_count": 2,
   "metadata": {
    "collapsed": false,
    "scrolled": true
   },
   "outputs": [
    {
     "name": "stdout",
     "output_type": "stream",
     "text": [
      "[0.0, 0.0, 0.0]\n",
      "[0.0, 4.0, 5.0]\n",
      "[1.0, 7.0, 6.0]\n",
      "[0.0, 5.0, 9.0]\n",
      "[1.0, 7.0, 2.0]\n"
     ]
    }
   ],
   "source": [
    "class Point_3d(object):\n",
    "    \"\"\"\n",
    "    Accepts 3 numerical parameters representing 3d coordinates, converts them to float\n",
    "    \n",
    "    returns a tuple in form of (x, y, z) coordinates\n",
    "    \n",
    "    @ToDo: add incorrect x,y,z input handling\n",
    "    \"\"\"\n",
    "    def __init__(self, x, y, z):\n",
    "        # set point's coordinates\n",
    "        self.x = float(x)\n",
    "        self.y = float(y)\n",
    "        self.z = float(z)\n",
    "        self.coords = [self.x, self.y, self.z]\n",
    "        \n",
    "    def __add__(self, no):\n",
    "        return None\n",
    "        \n",
    "    def __sub__(self, no):\n",
    "        # substracting point substracts CORRESPONDING coordinates' values\n",
    "        return [m_i - n_i for m_i, n_i in zip(self.coords, no.coords)]\n",
    "    \n",
    "    \n",
    "\n",
    "\n",
    "\n",
    "# INSTANTIATE TEST POINTS\n",
    "origin = Point_3d(0, 0, 0)\n",
    "a = Point_3d(*\"0 4 5\".split())\n",
    "b = Point_3d(*\"1 7 6\".split())\n",
    "c = Point_3d(*\"0 5 9\".split())\n",
    "d = Point_3d(*\"1 7 2\".split())\n",
    "\n",
    "[print(obj.coords) for obj in [origin, a, b, c, d]]\n",
    "None\n",
    "\n",
    "# a, b, c, d = [Point_3d(*input().split()) for _ in range(4)]"
   ]
  },
  {
   "cell_type": "code",
   "execution_count": 3,
   "metadata": {
    "collapsed": false
   },
   "outputs": [
    {
     "name": "stdout",
     "output_type": "stream",
     "text": [
      "[1.0, 3.0, 1.0]\n",
      "[-1.0, -2.0, 3.0]\n",
      "[1.0, 2.0, -7.0]\n"
     ]
    }
   ],
   "source": [
    "class Vector(object):\n",
    "    \"\"\"\n",
    "    Accepts 2 Point_3d objects\n",
    "    usage: Vector(tail, head)\n",
    "    \n",
    "    @ToDo: add length function\n",
    "    \"\"\"\n",
    "    def __init__(self, tail, head):\n",
    "        self.tail = tail\n",
    "        self.head = head\n",
    "        self.vectorized = head - tail\n",
    "        self.length = self.length()\n",
    "    def length(self):\n",
    "        return sqrt( sum([c**2 for c in self.vectorized]) )\n",
    "\n",
    "# INSTANTIATE INSTANCES OF WORKING VECTORS\n",
    "AB = Vector(a, b)\n",
    "BC = Vector(b, c)\n",
    "CD = Vector(c, d)\n",
    "\n",
    "[print(obj.vectorized) for obj in (AB, BC, CD)]\n",
    "None"
   ]
  },
  {
   "cell_type": "code",
   "execution_count": 4,
   "metadata": {
    "collapsed": false
   },
   "outputs": [
    {
     "data": {
      "text/plain": [
       "3.3166247903554"
      ]
     },
     "execution_count": 4,
     "metadata": {},
     "output_type": "execute_result"
    }
   ],
   "source": [
    "AB.length"
   ]
  },
  {
   "cell_type": "code",
   "execution_count": 5,
   "metadata": {
    "collapsed": false
   },
   "outputs": [
    {
     "name": "stdout",
     "output_type": "stream",
     "text": [
      "-4.0\n"
     ]
    }
   ],
   "source": [
    "def dot_product(v1, v2):\n",
    "    # https://en.wikipedia.org/wiki/Dot_product\n",
    "    # dot product simply sums cross-multiplications of corresponding coordinates\n",
    "    multiples = [m_i * n_i for m_i, n_i in zip(v1.vectorized, v2.vectorized)]\n",
    "    return sum(multiples)\n",
    "print(dot_product(AB, BC))"
   ]
  },
  {
   "cell_type": "code",
   "execution_count": 6,
   "metadata": {
    "collapsed": false
   },
   "outputs": [
    {
     "data": {
      "text/plain": [
       "1.898985295471193"
      ]
     },
     "execution_count": 6,
     "metadata": {},
     "output_type": "execute_result"
    }
   ],
   "source": [
    "def vectors_angle(v1, v2):\n",
    "    # http://www.intmath.com/vectors/7-vectors-in-3d-space.php\n",
    "    # returns angle b/w vectrs in RADIANS\n",
    "    cos_theta = dot_product(v1, v2)/(v1.length*v2.length)\n",
    "    theta = acos(cos_theta)\n",
    "    return theta\n",
    "vectors_angle(AB, BC)"
   ]
  },
  {
   "cell_type": "code",
   "execution_count": 7,
   "metadata": {
    "collapsed": false
   },
   "outputs": [
    {
     "data": {
      "text/plain": [
       "[11.0, -4.0, 1.0]"
      ]
     },
     "execution_count": 7,
     "metadata": {},
     "output_type": "execute_result"
    }
   ],
   "source": [
    "def cross_product(v1, v2):\n",
    "    # https://www.mathsisfun.com/algebra/vectors-cross-product.html\n",
    "    ax, ay, az = v1.vectorized\n",
    "    bx, by, bz = v2.vectorized\n",
    "    \n",
    "    # since we use vectorised v1, v2, we can assume they both start at the origin\n",
    "    # then AxB = (Ay*Bz - Az*By, ..., ...) [reffer to link above for full formula]\n",
    "    cx = ay*bz - az*by\n",
    "    cy = az*bx - ax*bz\n",
    "    cz = ax*by - ay*bx\n",
    "    \n",
    "    # c is our resulting vector, i.e. cross-product b/w v1 and v2\n",
    "    c_tail = Point_3d( 0,  0,  0)\n",
    "    c_head = Point_3d(cx, cy, cz)\n",
    "    c = Vector(c_tail, c_head)\n",
    "    \n",
    "    return c\n",
    "\n",
    "cross_product(AB, BC).vectorized"
   ]
  },
  {
   "cell_type": "code",
   "execution_count": 8,
   "metadata": {
    "collapsed": false
   },
   "outputs": [
    {
     "name": "stdout",
     "output_type": "stream",
     "text": [
      "<__main__.Vector object at 0x7fe4a849c780>\n"
     ]
    }
   ],
   "source": [
    "print(cross_product(AB, BC)) # it is a vector"
   ]
  },
  {
   "cell_type": "code",
   "execution_count": 9,
   "metadata": {
    "collapsed": false
   },
   "outputs": [
    {
     "name": "stdout",
     "output_type": "stream",
     "text": [
      "[11.0, -4.0, 1.0]\n",
      "[8.0, -4.0, 0.0]\n"
     ]
    }
   ],
   "source": [
    "M = cross_product(AB, BC)\n",
    "N = cross_product(BC, CD)\n",
    "\n",
    "print(M.vectorized)\n",
    "print(N.vectorized)"
   ]
  },
  {
   "cell_type": "code",
   "execution_count": 10,
   "metadata": {
    "collapsed": false
   },
   "outputs": [
    {
     "name": "stdout",
     "output_type": "stream",
     "text": [
      "8.19\n"
     ]
    }
   ],
   "source": [
    "# Calculating angles b/w planes\n",
    "\n",
    "cos_phi = dot_product(M, N) / (M.length*N.length)\n",
    "phi = acos(cos_phi)\n",
    "print('{0:.2f}'.format(degrees(phi)))"
   ]
  },
  {
   "cell_type": "code",
   "execution_count": 11,
   "metadata": {
    "collapsed": false
   },
   "outputs": [
    {
     "data": {
      "text/plain": [
       "8.19"
      ]
     },
     "execution_count": 11,
     "metadata": {},
     "output_type": "execute_result"
    }
   ],
   "source": [
    "# Sample Output\n",
    "8.19"
   ]
  }
 ],
 "metadata": {
  "anaconda-cloud": {},
  "kernelspec": {
   "display_name": "Python [default]",
   "language": "python",
   "name": "python3"
  },
  "language_info": {
   "codemirror_mode": {
    "name": "ipython",
    "version": 3
   },
   "file_extension": ".py",
   "mimetype": "text/x-python",
   "name": "python",
   "nbconvert_exporter": "python",
   "pygments_lexer": "ipython3",
   "version": "3.5.2"
  }
 },
 "nbformat": 4,
 "nbformat_minor": 1
}
